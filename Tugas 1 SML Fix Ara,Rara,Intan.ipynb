{
 "cells": [
  {
   "cell_type": "markdown",
   "id": "356e6817",
   "metadata": {},
   "source": [
    "# **1. Import Library**"
   ]
  },
  {
   "cell_type": "code",
   "execution_count": 1,
   "id": "81cd34e2",
   "metadata": {},
   "outputs": [],
   "source": [
    "import warnings\n",
    "warnings.filterwarnings('ignore')\n",
    "\n",
    "import os\n",
    "import numpy as np\n",
    "import pandas as pd\n",
    "from pprint import pprint\n",
    "\n",
    "from sklearn.model_selection import train_test_split, StratifiedKFold, RandomizedSearchCV\n",
    "from sklearn.pipeline import Pipeline\n",
    "from sklearn.compose import ColumnTransformer\n",
    "from sklearn.preprocessing import OneHotEncoder, StandardScaler\n",
    "from sklearn.impute import SimpleImputer\n",
    "from sklearn.linear_model import LogisticRegression\n",
    "from sklearn.ensemble import RandomForestClassifier\n",
    "from sklearn.metrics import roc_auc_score, roc_curve, classification_report\n",
    "import matplotlib.pyplot as plt\n",
    "\n",
    "# Optional advanced models\n",
    "try:\n",
    "    from xgboost import XGBClassifier\n",
    "    _HAS_XGB = True\n",
    "except Exception:\n",
    "    _HAS_XGB = False\n",
    "\n",
    "try:\n",
    "    from lightgbm import LGBMClassifier\n",
    "    _HAS_LGBM = True\n",
    "except Exception:\n",
    "    _HAS_LGBM = False\n",
    "\n",
    "try:\n",
    "    import shap\n",
    "    _HAS_SHAP = True\n",
    "except Exception:\n",
    "    _HAS_SHAP = False\n",
    "\n",
    "try:\n",
    "    from imblearn.over_sampling import SMOTE\n",
    "    from imblearn.pipeline import Pipeline as ImbPipeline\n",
    "    _HAS_SMOTE = True\n",
    "except Exception:\n",
    "    _HAS_SMOTE = False\n",
    "\n",
    "# Settings\n",
    "RANDOM_STATE = 42\n",
    "USE_SMOTE = True  # AKTIFKAN SMOTE\n",
    "N_JOBS = -1\n",
    "N_ITER_SEARCH = 40"
   ]
  },
  {
   "cell_type": "markdown",
   "id": "c84624b7",
   "metadata": {},
   "source": [
    "# **2. Load Dataset**"
   ]
  },
  {
   "cell_type": "code",
   "execution_count": 2,
   "id": "46a682eb",
   "metadata": {},
   "outputs": [
    {
     "name": "stdout",
     "output_type": "stream",
     "text": [
      "Train shape: (1176, 36), Test shape: (294, 35)\n"
     ]
    }
   ],
   "source": [
    "# Load data\n",
    "train = pd.read_csv('train.csv')\n",
    "test = pd.read_csv('test.csv')\n",
    "print(f\"Train shape: {train.shape}, Test shape: {test.shape}\")"
   ]
  },
  {
   "cell_type": "markdown",
   "id": "7107d08b",
   "metadata": {},
   "source": [
    "# **3. Encoding**"
   ]
  },
  {
   "cell_type": "code",
   "execution_count": 3,
   "id": "55f91e57",
   "metadata": {},
   "outputs": [],
   "source": [
    "# Target encoding\n",
    "TARGET = 'Attrition'\n",
    "if train[TARGET].dtype == 'object':\n",
    "    train[TARGET] = train[TARGET].map(lambda x: 1 if str(x).strip().lower() in ['yes', '1', 'y', 'true'] else 0)\n",
    "\n",
    "X = train.drop(columns=[TARGET])\n",
    "y = train[TARGET]"
   ]
  },
  {
   "cell_type": "markdown",
   "id": "30758baa",
   "metadata": {},
   "source": [
    "# **4. Indentifikasi Var Numerik dan Kategorik**"
   ]
  },
  {
   "cell_type": "code",
   "execution_count": 4,
   "id": "0c9e3954",
   "metadata": {},
   "outputs": [
    {
     "name": "stdout",
     "output_type": "stream",
     "text": [
      "Numeric cols: 26, Cat cols: 9\n"
     ]
    }
   ],
   "source": [
    "# Identify numeric/categorical\n",
    "num_cols = X.select_dtypes(include=['int64','float64']).columns.tolist()\n",
    "cat_cols = X.select_dtypes(include=['object','category','bool']).columns.tolist()\n",
    "print(f\"Numeric cols: {len(num_cols)}, Cat cols: {len(cat_cols)}\")"
   ]
  },
  {
   "cell_type": "markdown",
   "id": "07954f65",
   "metadata": {},
   "source": [
    "# **5. Split Dataset**"
   ]
  },
  {
   "cell_type": "code",
   "execution_count": 5,
   "id": "cc3fcc91",
   "metadata": {},
   "outputs": [],
   "source": [
    "# Split\n",
    "X_train, X_val, y_train, y_val = train_test_split(X, y, stratify=y, test_size=0.2, random_state=RANDOM_STATE)"
   ]
  },
  {
   "cell_type": "markdown",
   "id": "f10845ce",
   "metadata": {},
   "source": [
    "# **6. Preprocessing**"
   ]
  },
  {
   "cell_type": "code",
   "execution_count": 6,
   "id": "f4b8be7d",
   "metadata": {},
   "outputs": [
    {
     "data": {
      "text/plain": [
       "id                          0\n",
       "Age                         0\n",
       "BusinessTravel              0\n",
       "DailyRate                   0\n",
       "Department                  0\n",
       "DistanceFromHome            0\n",
       "Education                   0\n",
       "EducationField              0\n",
       "EmployeeCount               0\n",
       "EmployeeNumber              0\n",
       "EnvironmentSatisfaction     0\n",
       "Gender                      0\n",
       "HourlyRate                  0\n",
       "JobInvolvement              0\n",
       "JobLevel                    0\n",
       "JobRole                     0\n",
       "JobSatisfaction             0\n",
       "MaritalStatus               0\n",
       "MonthlyIncome               0\n",
       "MonthlyRate                 0\n",
       "NumCompaniesWorked          0\n",
       "Over18                      0\n",
       "OverTime                    0\n",
       "PercentSalaryHike           0\n",
       "PerformanceRating           0\n",
       "RelationshipSatisfaction    0\n",
       "StandardHours               0\n",
       "StockOptionLevel            0\n",
       "TotalWorkingYears           0\n",
       "TrainingTimesLastYear       0\n",
       "WorkLifeBalance             0\n",
       "YearsAtCompany              0\n",
       "YearsInCurrentRole          0\n",
       "YearsSinceLastPromotion     0\n",
       "YearsWithCurrManager        0\n",
       "Attrition                   0\n",
       "dtype: int64"
      ]
     },
     "metadata": {},
     "output_type": "display_data"
    },
    {
     "data": {
      "text/plain": [
       "id                          0\n",
       "Age                         0\n",
       "BusinessTravel              0\n",
       "DailyRate                   0\n",
       "Department                  0\n",
       "DistanceFromHome            0\n",
       "Education                   0\n",
       "EducationField              0\n",
       "EmployeeCount               0\n",
       "EmployeeNumber              0\n",
       "EnvironmentSatisfaction     0\n",
       "Gender                      0\n",
       "HourlyRate                  0\n",
       "JobInvolvement              0\n",
       "JobLevel                    0\n",
       "JobRole                     0\n",
       "JobSatisfaction             0\n",
       "MaritalStatus               0\n",
       "MonthlyIncome               0\n",
       "MonthlyRate                 0\n",
       "NumCompaniesWorked          0\n",
       "Over18                      0\n",
       "OverTime                    0\n",
       "PercentSalaryHike           0\n",
       "PerformanceRating           0\n",
       "RelationshipSatisfaction    0\n",
       "StandardHours               0\n",
       "StockOptionLevel            0\n",
       "TotalWorkingYears           0\n",
       "TrainingTimesLastYear       0\n",
       "WorkLifeBalance             0\n",
       "YearsAtCompany              0\n",
       "YearsInCurrentRole          0\n",
       "YearsSinceLastPromotion     0\n",
       "YearsWithCurrManager        0\n",
       "dtype: int64"
      ]
     },
     "metadata": {},
     "output_type": "display_data"
    }
   ],
   "source": [
    "# Check missing value di df_train dan df_test\n",
    "display(train.isnull().sum())\n",
    "display(test.isnull().sum())"
   ]
  },
  {
   "cell_type": "code",
   "execution_count": 7,
   "id": "3013e194",
   "metadata": {},
   "outputs": [
    {
     "data": {
      "text/plain": [
       "np.int64(0)"
      ]
     },
     "metadata": {},
     "output_type": "display_data"
    },
    {
     "data": {
      "text/plain": [
       "np.int64(0)"
      ]
     },
     "metadata": {},
     "output_type": "display_data"
    }
   ],
   "source": [
    "# Check duplikasi df_train dan df_test\n",
    "display(train.duplicated().sum())\n",
    "display(test.duplicated().sum())\n"
   ]
  },
  {
   "cell_type": "code",
   "execution_count": 8,
   "id": "3ec04a0d",
   "metadata": {},
   "outputs": [],
   "source": [
    "# Preprocessing\n",
    "num_trans = Pipeline([('imp', SimpleImputer(strategy='median')),\n",
    "                      ('sc', StandardScaler())])\n",
    "cat_trans = Pipeline([('imp', SimpleImputer(strategy='most_frequent')),\n",
    "                      ('ohe', OneHotEncoder(handle_unknown='ignore', sparse_output=False))])\n",
    "preproc = ColumnTransformer([('num', num_trans, num_cols),\n",
    "                             ('cat', cat_trans, cat_cols)])\n",
    "\n",
    "def build_pipeline(model):\n",
    "    if USE_SMOTE and _HAS_SMOTE:\n",
    "        return ImbPipeline([\n",
    "            ('preproc', preproc),\n",
    "            ('smote', SMOTE(random_state=RANDOM_STATE)),\n",
    "            ('clf', model)\n",
    "        ])\n",
    "    else:\n",
    "        return Pipeline([\n",
    "            ('preproc', preproc),\n",
    "            ('clf', model)\n",
    "        ])\n",
    "    "
   ]
  },
  {
   "cell_type": "markdown",
   "id": "65682330",
   "metadata": {},
   "source": [
    "# **7. Best Model**"
   ]
  },
  {
   "cell_type": "code",
   "execution_count": 9,
   "id": "738ba8a9",
   "metadata": {},
   "outputs": [],
   "source": [
    "# Models + Search Space\n",
    "models = {}\n",
    "\n",
    "# Logistic Regression\n",
    "lr = LogisticRegression(max_iter=2000, solver='liblinear', class_weight='balanced', random_state=RANDOM_STATE)\n",
    "models['logistic'] = {\n",
    "    'pipeline': build_pipeline(lr),\n",
    "    'param_dist': {\n",
    "        'clf__C': np.logspace(-3, 2, 10),\n",
    "        'clf__penalty': ['l1', 'l2']\n",
    "    }\n",
    "}\n",
    "\n",
    "# Random Forest\n",
    "rf = RandomForestClassifier(random_state=RANDOM_STATE, class_weight='balanced')\n",
    "models['random_forest'] = {\n",
    "    'pipeline': build_pipeline(rf),\n",
    "    'param_dist': {\n",
    "        'clf__n_estimators': [200, 400, 600],\n",
    "        'clf__max_depth': [8, 12, 20, None],\n",
    "        'clf__min_samples_split': [2, 5, 10],\n",
    "        'clf__min_samples_leaf': [1, 2, 4]\n",
    "    }\n",
    "}\n",
    "\n",
    "# XGBoost\n",
    "if _HAS_XGB:\n",
    "    xgb = XGBClassifier(use_label_encoder=False, eval_metric='auc', random_state=RANDOM_STATE)\n",
    "    models['xgboost'] = {\n",
    "        'pipeline': build_pipeline(xgb),\n",
    "        'param_dist': {\n",
    "            'clf__n_estimators': [200, 400],\n",
    "            'clf__max_depth': [3, 5, 8],\n",
    "            'clf__learning_rate': [0.01, 0.05, 0.1],\n",
    "            'clf__subsample': [0.7, 0.9, 1.0],\n",
    "            'clf__colsample_bytree': [0.6, 0.8, 1.0]\n",
    "        }\n",
    "    }\n",
    "\n",
    "# LightGBM (optional)\n",
    "if _HAS_LGBM:\n",
    "    lgbm = LGBMClassifier(random_state=RANDOM_STATE, class_weight='balanced')\n",
    "    models['lightgbm'] = {\n",
    "        'pipeline': build_pipeline(lgbm),\n",
    "        'param_dist': {\n",
    "            'clf__n_estimators': [300, 500],\n",
    "            'clf__max_depth': [-1, 8, 12],\n",
    "            'clf__learning_rate': [0.01, 0.05, 0.1],\n",
    "            'clf__num_leaves': [15, 31, 63],\n",
    "            'clf__subsample': [0.7, 0.9, 1.0]\n",
    "        }\n",
    "    }\n"
   ]
  },
  {
   "cell_type": "markdown",
   "id": "38289dc7",
   "metadata": {},
   "source": [
    "# **8. Training**"
   ]
  },
  {
   "cell_type": "code",
   "execution_count": 10,
   "id": "56ce9dd3",
   "metadata": {},
   "outputs": [
    {
     "name": "stdout",
     "output_type": "stream",
     "text": [
      "\n",
      "=== Training logistic ===\n",
      "Fitting 5 folds for each of 12 candidates, totalling 60 fits\n",
      "Best CV AUC: 0.8329 | Val AUC: 0.8319\n",
      "Best params: {'clf__penalty': 'l1', 'clf__C': np.float64(27.825594022071257)}\n",
      "\n",
      "=== Training random_forest ===\n",
      "Fitting 5 folds for each of 24 candidates, totalling 120 fits\n",
      "Best CV AUC: 0.8039 | Val AUC: 0.8448\n",
      "Best params: {'clf__n_estimators': 400, 'clf__min_samples_split': 2, 'clf__min_samples_leaf': 2, 'clf__max_depth': 20}\n",
      "\n",
      "=== Training xgboost ===\n",
      "Fitting 5 folds for each of 30 candidates, totalling 150 fits\n",
      "Best CV AUC: 0.8232 | Val AUC: 0.7952\n",
      "Best params: {'clf__subsample': 0.7, 'clf__n_estimators': 400, 'clf__max_depth': 3, 'clf__learning_rate': 0.05, 'clf__colsample_bytree': 0.8}\n",
      "\n",
      "=== Training lightgbm ===\n",
      "Fitting 5 folds for each of 30 candidates, totalling 150 fits\n",
      "[LightGBM] [Info] Number of positive: 788, number of negative: 788\n",
      "[LightGBM] [Info] Auto-choosing col-wise multi-threading, the overhead of testing was 0.007608 seconds.\n",
      "You can set `force_col_wise=true` to remove the overhead.\n",
      "[LightGBM] [Info] Total Bins 6994\n",
      "[LightGBM] [Info] Number of data points in the train set: 1576, number of used features: 58\n",
      "[LightGBM] [Info] [binary:BoostFromScore]: pavg=0.500000 -> initscore=0.000000\n",
      "Best CV AUC: 0.8139 | Val AUC: 0.7726\n",
      "Best params: {'clf__subsample': 0.7, 'clf__num_leaves': 15, 'clf__n_estimators': 500, 'clf__max_depth': 12, 'clf__learning_rate': 0.1}\n"
     ]
    }
   ],
   "source": [
    "# =============================\n",
    "# Training\n",
    "# =============================\n",
    "skf = StratifiedKFold(n_splits=5, shuffle=True, random_state=RANDOM_STATE)\n",
    "results = []\n",
    "\n",
    "for name, spec in models.items():\n",
    "    print(f\"\\n=== Training {name} ===\")\n",
    "    search = RandomizedSearchCV(\n",
    "        estimator=spec['pipeline'],\n",
    "        param_distributions=spec['param_dist'],\n",
    "        n_iter=min(N_ITER_SEARCH, len(spec['param_dist'])*6),\n",
    "        scoring='roc_auc',\n",
    "        n_jobs=N_JOBS,\n",
    "        cv=skf,\n",
    "        verbose=1,\n",
    "        random_state=RANDOM_STATE\n",
    "    )\n",
    "    search.fit(X_train, y_train)\n",
    "    y_pred_proba = search.best_estimator_.predict_proba(X_val)[:,1]\n",
    "    val_auc = roc_auc_score(y_val, y_pred_proba)\n",
    "    results.append((name, val_auc, search.best_estimator_))\n",
    "    print(f\"Best CV AUC: {search.best_score_:.4f} | Val AUC: {val_auc:.4f}\")\n",
    "    print(f\"Best params: {search.best_params_}\")"
   ]
  },
  {
   "cell_type": "markdown",
   "id": "123471ad",
   "metadata": {},
   "source": [
    "# **9. Evaluasi**"
   ]
  },
  {
   "cell_type": "code",
   "execution_count": 11,
   "id": "f6559ce1",
   "metadata": {},
   "outputs": [
    {
     "name": "stdout",
     "output_type": "stream",
     "text": [
      "\n",
      "Best model: random_forest | Validation ROC-AUC = 0.8448\n"
     ]
    },
    {
     "data": {
      "image/png": "[encoded data removed]",
      "text/plain": [
       "<Figure size 600x600 with 1 Axes>"
      ]
     },
     "metadata": {},
     "output_type": "display_data"
    }
   ],
   "source": [
    "# =============================\n",
    "# Evaluation\n",
    "# =============================\n",
    "results = sorted(results, key=lambda x: x[1], reverse=True)\n",
    "best_name, best_auc, best_model = results[0]\n",
    "print(f\"\\nBest model: {best_name} | Validation ROC-AUC = {best_auc:.4f}\")\n",
    "\n",
    "fpr, tpr, _ = roc_curve(y_val, best_model.predict_proba(X_val)[:,1])\n",
    "plt.figure(figsize=(6,6))\n",
    "plt.plot(fpr, tpr, label=f'{best_name} (AUC={best_auc:.4f})')\n",
    "plt.plot([0,1],[0,1],'--',color='gray')\n",
    "plt.legend(); plt.title(\"ROC Curve\"); plt.xlabel(\"FPR\"); plt.ylabel(\"TPR\"); plt.grid(True); plt.show()\n"
   ]
  },
  {
   "cell_type": "markdown",
   "id": "7f4d9503",
   "metadata": {},
   "source": [
    "# **10. Download File Submission**"
   ]
  },
  {
   "cell_type": "code",
   "execution_count": 12,
   "id": "306c8f47",
   "metadata": {},
   "outputs": [
    {
     "name": "stdout",
     "output_type": "stream",
     "text": [
      "\n",
      "=== Generating submission ===\n",
      "Saved predictions to submission_16.csv\n"
     ]
    }
   ],
   "source": [
    "#Download file submission \n",
    "if test is not None:\n",
    "    print(\"\\n=== Generating submission ===\")\n",
    "    preds = best_model.predict_proba(test)[:,1]\n",
    "    \n",
    "    # If original had an id column we removed, try to infer file id\n",
    "    idcol = None\n",
    "    for c in ['id', 'EmployeeNumber', 'employee_id', 'EmployeeID']:\n",
    "        if c in pd.read_csv('train.csv').columns:\n",
    "            idcol = c\n",
    "            break\n",
    "\n",
    "    submission = pd.DataFrame({'prediction': preds})\n",
    "    if idcol is not None and idcol in pd.read_csv('test.csv').columns:\n",
    "        submission[idcol] = pd.read_csv('test.csv')[idcol]\n",
    "        submission = submission[[idcol, 'prediction']]\n",
    "    out_path = 'submission_16.csv'\n",
    "    submission.to_csv(out_path, index=False)\n",
    "    print(f'Saved predictions to {out_path}')\n"
   ]
  }
 ],
 "metadata": {
  "kernelspec": {
   "display_name": "Python 3",
   "language": "python",
   "name": "python3"
  },
  "language_info": {
   "codemirror_mode": {
    "name": "ipython",
    "version": 3
   },
   "file_extension": ".py",
   "mimetype": "text/x-python",
   "name": "python",
   "nbconvert_exporter": "python",
   "pygments_lexer": "ipython3",
   "version": "3.10.11"
  }
 },
 "nbformat": 4,
 "nbformat_minor": 5
}
